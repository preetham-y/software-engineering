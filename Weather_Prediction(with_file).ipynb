{
  "nbformat": 4,
  "nbformat_minor": 0,
  "metadata": {
    "colab": {
      "provenance": [],
      "authorship_tag": "ABX9TyP/b5eJrn5sZsLOr4ChYbik",
      "include_colab_link": true
    },
    "kernelspec": {
      "name": "python3",
      "display_name": "Python 3"
    },
    "language_info": {
      "name": "python"
    }
  },
  "cells": [
    {
      "cell_type": "markdown",
      "metadata": {
        "id": "view-in-github",
        "colab_type": "text"
      },
      "source": [
        "<a href=\"https://colab.research.google.com/github/preetham-y/software-engineering/blob/main/Weather_Prediction(with_file).ipynb\" target=\"_parent\"><img src=\"https://colab.research.google.com/assets/colab-badge.svg\" alt=\"Open In Colab\"/></a>"
      ]
    },
    {
      "cell_type": "code",
      "execution_count": null,
      "metadata": {
        "colab": {
          "base_uri": "https://localhost:8080/"
        },
        "id": "Xkv0j3Qgr9ou",
        "outputId": "230b9e84-d508-46e3-b272-a9fe3fd9701b"
      },
      "outputs": [
        {
          "output_type": "stream",
          "name": "stdout",
          "text": [
            "Welcome to weather prediction\n",
            "Enter temperature: 35\n",
            "Enter humidity: 25\n",
            "Enter wind speed: 00\n",
            "Today's weather: 592.5\n",
            "Prediction: Sunny\n",
            "592.5\n"
          ]
        }
      ],
      "source": [
        "print(\"Welcome to weather prediction\")\n",
        "T=float(input(\"Enter temperature: \"))\n",
        "H=float(input(\"Enter humidity: \"))\n",
        "wind=float(input(\"Enter wind speed: \"))\n",
        "W=0.5*(T*T)-0.2*(H)+(0.1*wind)-15\n",
        "input_file=\"test.txt\"\n",
        "f=open(input_file,\"r\")\n",
        "print(f.read(),W)\n",
        "if W>300:\n",
        "    print(\"Prediction: Sunny\")\n",
        "elif W<=300 and W>200:\n",
        "    print(\"Prediction: Cloudy\")\n",
        "elif W<=200 and W>100:\n",
        "    print(\"Prediction: Rainy\")\n",
        "elif W<=100:\n",
        "    print(\"Prediction: Stormy\")\n",
        "print(W)"
      ]
    }
  ]
}